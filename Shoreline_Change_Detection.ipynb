{
  "nbformat": 4,
  "nbformat_minor": 0,
  "metadata": {
    "colab": {
      "provenance": [],
      "gpuType": "T4"
    },
    "kernelspec": {
      "name": "python3",
      "display_name": "Python 3"
    },
    "language_info": {
      "name": "python"
    },
    "accelerator": "GPU"
  },
  "cells": [
    {
      "cell_type": "markdown",
      "source": [
        "# **U-Net Model**\n",
        "\n",
        "---\n",
        "\n"
      ],
      "metadata": {
        "id": "aqhw2zfiGdRS"
      }
    },
    {
      "cell_type": "code",
      "execution_count": 4,
      "metadata": {
        "id": "6MSeHcVCXxDf"
      },
      "outputs": [],
      "source": [
        "from keras.models import *\n",
        "from keras.layers import *\n",
        "import keras\n",
        "from tensorflow.keras.optimizers import Adam\n",
        "from tensorflow.keras.losses import categorical_crossentropy,binary_crossentropy\n",
        "\n",
        "\n",
        "def weighted_bincrossentropy(true, pred, weight_zero = 0.3, weight_one = 1):\n",
        "\n",
        "\n",
        "    # calculate the binary cross entropy\n",
        "    bin_crossentropy = keras.backend.binary_crossentropy(true, pred)\n",
        "\n",
        "    # apply the weights\n",
        "    weights = true * weight_one + (1. - true) * weight_zero\n",
        "    weighted_bin_crossentropy = weights * bin_crossentropy\n",
        "    return keras.backend.mean(weighted_bin_crossentropy)\n",
        "\n",
        "\n",
        "def unet_model(input_shape=(128, 128, 6)):\n",
        "    inputs = Input(shape=input_shape)\n",
        "\n",
        "    # Downsample path\n",
        "    conv1 = Conv2D(32, (3, 3), activation='relu', padding='same')(inputs)\n",
        "    conv1 = Conv2D(32, (3, 3), activation='relu', padding='same')(conv1)\n",
        "    pool1 = MaxPooling2D((2, 2))(conv1)\n",
        "\n",
        "    conv2 = Conv2D(64, (3, 3), activation='relu', padding='same')(pool1)\n",
        "    conv2 = Conv2D(64, (3, 3), activation='relu', padding='same')(conv2)\n",
        "    pool2 = MaxPooling2D((2, 2))(conv2)\n",
        "\n",
        "    conv3 = Conv2D(128, (3, 3), activation='relu', padding='same')(pool2)\n",
        "    conv3 = Conv2D(128, (3, 3), activation='relu', padding='same')(conv3)\n",
        "    pool3 = MaxPooling2D((2, 2))(conv3)\n",
        "\n",
        "    conv4 = Conv2D(256, (3, 3), activation='relu', padding='same')(pool3)\n",
        "    conv4 = Conv2D(256, (3, 3), activation='relu', padding='same')(conv4)\n",
        "    drop4 = Dropout(0.5)(conv4)\n",
        "    pool4 = MaxPooling2D((2, 2))(drop4)\n",
        "\n",
        "    # Bottom\n",
        "    conv5 = Conv2D(512, (3, 3), activation='relu', padding='same')(pool4)\n",
        "    conv5 = Conv2D(512, (3, 3), activation='relu', padding='same')(conv5)\n",
        "    drop5 = Dropout(0.5)(conv5)\n",
        "\n",
        "    # Upsample path\n",
        "    up6 = Conv2D(256, (2, 2), activation='relu', padding='same')(UpSampling2D((2, 2))(drop5))\n",
        "    concat6 = Concatenate()([drop4, up6])\n",
        "    conv6 = Conv2D(256, (3, 3), activation='relu', padding='same')(concat6)\n",
        "    conv6 = Conv2D(256, (3, 3), activation='relu', padding='same')(conv6)\n",
        "\n",
        "    up7 = Conv2D(128, (2, 2), activation='relu', padding='same')(UpSampling2D((2, 2))(conv6))\n",
        "    concat7 = Concatenate()([conv3, up7])\n",
        "    conv7 = Conv2D(128, (3, 3), activation='relu', padding='same')(concat7)\n",
        "    conv7 = Conv2D(128, (3, 3), activation='relu', padding='same')(conv7)\n",
        "\n",
        "    up8 = Conv2D(64, (2, 2), activation='relu', padding='same')(UpSampling2D((2, 2))(conv7))\n",
        "    concat8 = Concatenate()([conv2, up8])\n",
        "    conv8 = Conv2D(64, (3, 3), activation='relu', padding='same')(concat8)\n",
        "    conv8 = Conv2D(64, (3, 3), activation='relu', padding='same')(conv8)\n",
        "\n",
        "\n",
        "    up9 = Conv2D(32, (2, 2), activation='relu', padding='same')(UpSampling2D((2, 2))(conv8))\n",
        "    concat9 = Concatenate()([conv1, up9])\n",
        "    conv9 = Conv2D(32, (3, 3), activation='relu', padding='same')(concat9)\n",
        "    conv9 = Conv2D(32, (3, 3), activation='relu', padding='same')(conv9)\n",
        "\n",
        "    outputs = Conv2D(1, (1, 1), activation='sigmoid')(conv9)\n",
        "\n",
        "    model = tf.keras.models.Model(inputs=inputs, outputs=outputs)\n",
        "    model.compile(optimizer=Adam(learning_rate=0.00005), loss=weighted_bincrossentropy, metrics=['accuracy'])\n",
        "    return model"
      ]
    },
    {
      "cell_type": "markdown",
      "source": [
        "# **Loading Training Data**\n",
        "\n",
        "---\n",
        "\n"
      ],
      "metadata": {
        "id": "C1ceUokNGy5o"
      }
    },
    {
      "cell_type": "code",
      "source": [
        "import cv2\n",
        "from sklearn.model_selection import train_test_split\n",
        "import numpy as np\n",
        "data=np.load('/content/drive/MyDrive/GP/data.npy',allow_pickle=True)\n",
        "masks=np.load('/content/drive/MyDrive/GP/masks.npy',allow_pickle=True)\n"
      ],
      "metadata": {
        "id": "Oh8l7xmDX2fL"
      },
      "execution_count": 5,
      "outputs": []
    },
    {
      "cell_type": "markdown",
      "source": [
        "# **Training Process**\n",
        "\n",
        "---\n",
        "\n"
      ],
      "metadata": {
        "id": "UaoRAFaLG7zQ"
      }
    },
    {
      "cell_type": "code",
      "source": [
        "train_data, val_data, train_masks, val_masks = train_test_split(data, masks, test_size=0.20, random_state=None)\n",
        "\n",
        "model = unet_model()\n",
        "\n",
        "history = model.fit(train_data, train_masks, batch_size=8, epochs=20, validation_data=(val_data, val_masks))"
      ],
      "metadata": {
        "id": "k9F25tXuYRwj"
      },
      "execution_count": null,
      "outputs": []
    },
    {
      "cell_type": "markdown",
      "source": [
        "# **Patches Testing**\n",
        "\n",
        "---\n",
        "\n"
      ],
      "metadata": {
        "id": "ZEfzKmhOHDZR"
      }
    },
    {
      "cell_type": "code",
      "source": [
        "total_recall=0\n",
        "total_Percision=0\n",
        "total_accuracy=0\n",
        "total_Miou=0\n",
        "count=0"
      ],
      "metadata": {
        "id": "-6iPAMSpqHSz"
      },
      "execution_count": 10,
      "outputs": []
    },
    {
      "cell_type": "code",
      "source": [
        "import cv2\n",
        "import numpy as np\n",
        "from google.colab.patches import cv2_imshow\n",
        "import sklearn.metrics\n",
        "\n",
        "for i in test_18_19:\n",
        "  image1 = cv2.imread('/content/drive/MyDrive/GP/finalData/2018_2019/2018/' +i)\n",
        "  image2 = cv2.imread('/content/drive/MyDrive/GP/finalData/2018_2019/2019/' +i)\n",
        "\n",
        "\n",
        "  # Concatenate the two images along the third dimension\n",
        "  image = np.concatenate((image1, image2), axis=2)\n",
        "\n",
        "  # Expand dimensions to match the model input shape (1, 128, 128, 6)\n",
        "  input_image = np.expand_dims(image, axis=0)\n",
        "\n",
        "  predicted_mask = model.predict(input_image)[0]\n",
        "\n",
        "  predicted_mask = np.round(predicted_mask)\n",
        "\n",
        "  mask = np.zeros((128, 128, 3), dtype=np.uint8)\n",
        "\n",
        "  mask[predicted_mask[:, :, 0] == 1] = (255, 255, 255)\n",
        "\n",
        "  mask = cv2.cvtColor(mask, cv2.COLOR_BGR2GRAY)\n",
        "\n",
        "\n",
        "  #compare part\n",
        "\n",
        "  act_mask=cv2.imread(\"/content/drive/MyDrive/GP/finalData/2018_2019/Mask/\"+i,0)\n",
        "\n",
        "  #leave masks with no change\n",
        "  if np.mean(act_mask)==0:\n",
        "    continue\n",
        "\n",
        "  count=count+1\n",
        "  cv2_imshow(mask)\n",
        "  cv2_imshow(act_mask)\n",
        "  cv2.waitKey(0)\n",
        "  cv2.destroyAllWindows()\n",
        "  acc = sklearn.metrics.accuracy_score(np.array(act_mask), np.array(mask))\n",
        "  precision = sklearn.metrics.precision_score(np.array(act_mask), np.array(mask),average=\"weighted\")\n",
        "  recall = sklearn.metrics.recall_score(np.array(act_mask), np.array(mask),average=\"weighted\")\n",
        "  miou=sklearn.metrics.jaccard_score(np.array(act_mask), np.array(mask),average=\"micro\")\n",
        "  total_accuracy=total_accuracy+acc*100\n",
        "  total_recall=total_recall+recall*100\n",
        "  total_Percision=total_Percision+precision*100\n",
        "  print(\"miou\",miou*100)\n",
        "  total_Miou=total_Miou+miou*100\n",
        "  print(\"Recall \",recall*100)\n",
        "  print(\"Percision \",precision*100)\n",
        "  print(\"Accuracy \",acc*100)\n"
      ],
      "metadata": {
        "colab": {
          "base_uri": "https://localhost:8080/",
          "height": 235
        },
        "id": "Coowa1hIwBed",
        "outputId": "43e70fd1-d73d-4ab5-db01-854469b2ec15"
      },
      "execution_count": 1,
      "outputs": [
        {
          "output_type": "error",
          "ename": "NameError",
          "evalue": "ignored",
          "traceback": [
            "\u001b[0;31m---------------------------------------------------------------------------\u001b[0m",
            "\u001b[0;31mNameError\u001b[0m                                 Traceback (most recent call last)",
            "\u001b[0;32m<ipython-input-1-775061236473>\u001b[0m in \u001b[0;36m<cell line: 6>\u001b[0;34m()\u001b[0m\n\u001b[1;32m      4\u001b[0m \u001b[0;32mimport\u001b[0m \u001b[0msklearn\u001b[0m\u001b[0;34m.\u001b[0m\u001b[0mmetrics\u001b[0m\u001b[0;34m\u001b[0m\u001b[0;34m\u001b[0m\u001b[0m\n\u001b[1;32m      5\u001b[0m \u001b[0;34m\u001b[0m\u001b[0m\n\u001b[0;32m----> 6\u001b[0;31m \u001b[0;32mfor\u001b[0m \u001b[0mi\u001b[0m \u001b[0;32min\u001b[0m \u001b[0mtest_18_19\u001b[0m\u001b[0;34m:\u001b[0m\u001b[0;34m\u001b[0m\u001b[0;34m\u001b[0m\u001b[0m\n\u001b[0m\u001b[1;32m      7\u001b[0m   \u001b[0mimage1\u001b[0m \u001b[0;34m=\u001b[0m \u001b[0mcv2\u001b[0m\u001b[0;34m.\u001b[0m\u001b[0mimread\u001b[0m\u001b[0;34m(\u001b[0m\u001b[0;34m'/content/drive/MyDrive/GP/finalData/2018_2019/2018/'\u001b[0m \u001b[0;34m+\u001b[0m\u001b[0mi\u001b[0m\u001b[0;34m)\u001b[0m\u001b[0;34m\u001b[0m\u001b[0;34m\u001b[0m\u001b[0m\n\u001b[1;32m      8\u001b[0m   \u001b[0mimage2\u001b[0m \u001b[0;34m=\u001b[0m \u001b[0mcv2\u001b[0m\u001b[0;34m.\u001b[0m\u001b[0mimread\u001b[0m\u001b[0;34m(\u001b[0m\u001b[0;34m'/content/drive/MyDrive/GP/finalData/2018_2019/2019/'\u001b[0m \u001b[0;34m+\u001b[0m\u001b[0mi\u001b[0m\u001b[0;34m)\u001b[0m\u001b[0;34m\u001b[0m\u001b[0;34m\u001b[0m\u001b[0m\n",
            "\u001b[0;31mNameError\u001b[0m: name 'test_18_19' is not defined"
          ]
        }
      ]
    },
    {
      "cell_type": "code",
      "source": [
        "import cv2\n",
        "import numpy as np\n",
        "from google.colab.patches import cv2_imshow\n",
        "\n",
        "for i in test_19_20:\n",
        "  image1 = cv2.imread('/content/drive/MyDrive/GP/finalData/2019_2020/2019/' +i)\n",
        "  image2 = cv2.imread('/content/drive/MyDrive/GP/finalData/2019_2020/2020/' +i)\n",
        "\n",
        "\n",
        "  image = np.concatenate((image1, image2), axis=2)\n",
        "\n",
        "\n",
        "  input_image = np.expand_dims(image, axis=0)\n",
        "\n",
        "  predicted_mask = model.predict(input_image)[0]\n",
        "\n",
        "  predicted_mask = np.round(predicted_mask)\n",
        "\n",
        "  mask = np.zeros((128, 128, 3), dtype=np.uint8)\n",
        "\n",
        "  mask[predicted_mask[:, :, 0] == 1] = (255, 255, 255)\n",
        "  mask = cv2.cvtColor(mask, cv2.COLOR_BGR2GRAY)\n",
        "\n",
        "\n",
        "  act_mask=cv2.imread(\"/content/drive/MyDrive/GP/finalData/2019_2020/Mask/\"+i,0)\n",
        "  if np.mean(act_mask)==0:\n",
        "    continue\n",
        "\n",
        "  count=count+1\n",
        "  cv2_imshow(mask)\n",
        "  cv2_imshow(act_mask)\n",
        "  cv2.waitKey(0)\n",
        "  cv2.destroyAllWindows()\n",
        "  import sklearn.metrics\n",
        "  acc = sklearn.metrics.accuracy_score(np.array(act_mask), np.array(mask))\n",
        "  precision = sklearn.metrics.precision_score(np.array(act_mask), np.array(mask),average=\"weighted\")\n",
        "  recall = sklearn.metrics.recall_score(np.array(act_mask), np.array(mask),average=\"weighted\")\n",
        "  miou=sklearn.metrics.jaccard_score(np.array(act_mask), np.array(mask),average=\"micro\")\n",
        "  total_accuracy=total_accuracy+acc*100\n",
        "  total_recall=total_recall+recall*100\n",
        "  total_Percision=total_Percision+precision*100\n",
        "  total_Miou=total_Miou+miou*100\n",
        "  print(\"miou\",miou*100)\n",
        "  print(\"Recall \",recall*100)\n",
        "  print(\"Percision \",precision*100)\n",
        "  print(\"Accuracy \",acc*100)\n"
      ],
      "metadata": {
        "id": "BN7kSarDrmyi"
      },
      "execution_count": null,
      "outputs": []
    },
    {
      "cell_type": "code",
      "source": [
        "import cv2\n",
        "import numpy as np\n",
        "from google.colab.patches import cv2_imshow\n",
        "\n",
        "for i in test_20_21:\n",
        "  image1 = cv2.imread('/content/drive/MyDrive/GP/finalData/2020_2021/2020/' +i)\n",
        "  image2 = cv2.imread('/content/drive/MyDrive/GP/finalData/2020_2021/2021/' +i)\n",
        "\n",
        "\n",
        "  image = np.concatenate((image1, image2), axis=2)\n",
        "\n",
        "  input_image = np.expand_dims(image, axis=0)\n",
        "\n",
        "  predicted_mask = model.predict(input_image)[0]\n",
        "\n",
        "  predicted_mask = np.round(predicted_mask)\n",
        "\n",
        "  mask = np.zeros((128, 128, 3), dtype=np.uint8)\n",
        "\n",
        "  mask[predicted_mask[:, :, 0] == 1] = (255, 255, 255)\n",
        "  mask = cv2.cvtColor(mask, cv2.COLOR_BGR2GRAY)\n",
        "\n",
        "\n",
        "  act_mask=cv2.imread(\"/content/drive/MyDrive/GP/finalData/2020_2021/Mask/\"+i,0)\n",
        "  if np.mean(act_mask)==0:\n",
        "    continue\n",
        "\n",
        "  count=count+1\n",
        "  cv2_imshow(mask)\n",
        "  cv2_imshow(act_mask)\n",
        "  cv2.waitKey(0)\n",
        "  cv2.destroyAllWindows()\n",
        "  import sklearn.metrics\n",
        "  acc = sklearn.metrics.accuracy_score(np.array(act_mask), np.array(mask))\n",
        "  precision = sklearn.metrics.precision_score(np.array(act_mask), np.array(mask),average=\"weighted\")\n",
        "  recall = sklearn.metrics.recall_score(np.array(act_mask), np.array(mask),average=\"weighted\")\n",
        "  miou=sklearn.metrics.jaccard_score(np.array(act_mask), np.array(mask),average=\"micro\")\n",
        "  total_accuracy=total_accuracy+acc*100\n",
        "  total_recall=total_recall+recall*100\n",
        "  total_Percision=total_Percision+precision*100\n",
        "  total_Miou=total_Miou+miou*100\n",
        "  print(\"miou\",miou*100)\n",
        "  print(\"Recall \",recall*100)\n",
        "  print(\"Percision \",precision*100)\n",
        "  print(\"Accuracy \",acc*100)\n",
        "\n"
      ],
      "metadata": {
        "id": "x8_09RrXr1y9"
      },
      "execution_count": null,
      "outputs": []
    },
    {
      "cell_type": "markdown",
      "source": [
        "**Metrics Results**\n",
        "\n",
        "---\n",
        "\n"
      ],
      "metadata": {
        "id": "XyPgdkp3H36w"
      }
    },
    {
      "cell_type": "code",
      "source": [
        "total_accuracy=total_accuracy/count\n",
        "total_Percision=total_Percision/count\n",
        "total_recall=total_recall/count\n",
        "total_Miou=total_Miou/count\n",
        "print(\"acuuracy \",total_accuracy)\n",
        "print(\"Percision \",total_Percision)\n",
        "print(\"Recall \",total_recall)\n",
        "F1 = 2 * (total_Percision * total_recall) / (total_Percision + total_recall)\n",
        "print(\"FSCORE \",F1)\n",
        "print(\"Miou\",total_Miou)"
      ],
      "metadata": {
        "id": "U4qWI2LAxK-y"
      },
      "execution_count": null,
      "outputs": []
    },
    {
      "cell_type": "markdown",
      "source": [
        "# **Full Image Testing**"
      ],
      "metadata": {
        "id": "l5tCZ18RHXTW"
      }
    },
    {
      "cell_type": "code",
      "source": [
        "\n",
        "import cv2\n",
        "import numpy as np\n",
        "from google.colab.patches import cv2_imshow\n",
        "\n",
        "\n",
        "image1 = cv2.imread('/content/drive/MyDrive/GP/Input/image_3.tif')\n",
        "image2 = cv2.imread('/content/drive/MyDrive/GP/Input/image_4.tif')\n",
        "\n",
        "height, width, _ = image1.shape\n",
        "\n",
        "\n",
        "patch_size = 128\n",
        "\n",
        "stride = patch_size\n",
        "\n",
        "# Create an empty mask image of the same size as the input images\n",
        "mask = np.zeros((height, width), dtype=np.uint8)\n",
        "\n",
        "for y in range(0, height - patch_size + 1, stride):\n",
        "    for x in range(0, width - patch_size + 1, stride):\n",
        "        # Extract the patch from the first image\n",
        "        patch1 = image1[y:y+patch_size, x:x+patch_size, :]\n",
        "\n",
        "        # Extract the patch from the second image\n",
        "        patch2 = image2[y:y+patch_size, x:x+patch_size, :]\n",
        "\n",
        "        concatenated_patch = np.concatenate((patch1, patch2), axis=2)\n",
        "\n",
        "        normalized_patch = concatenated_patch / 255.0\n",
        "\n",
        "        input_patch = np.expand_dims(normalized_patch, axis=0)\n",
        "\n",
        "        predicted_mask = model.predict(input_patch)[0]\n",
        "\n",
        "        predicted_mask = np.round(predicted_mask)\n",
        "\n",
        "        mask[y:y+patch_size, x:x+patch_size] = predicted_mask[:, :, 0]\n"
      ],
      "metadata": {
        "id": "j21705cdcsp7"
      },
      "execution_count": null,
      "outputs": []
    },
    {
      "cell_type": "code",
      "source": [
        "predicted_mask = cv2.cvtColor(mask, cv2.COLOR_GRAY2BGR)\n",
        "predicted_mask[mask != 0] = (255, 255, 255)\n",
        "predicted_mask = cv2.cvtColor(predicted_mask, cv2.COLOR_BGR2GRAY)\n",
        "print(predicted_mask.shape)\n",
        "\n",
        "cv2_imshow(predicted_mask)\n",
        "cv2.waitKey(0)\n",
        "cv2.destroyAllWindows()"
      ],
      "metadata": {
        "id": "SRuuxaVkcwH6"
      },
      "execution_count": null,
      "outputs": []
    },
    {
      "cell_type": "markdown",
      "source": [
        "**Metrics Results**\n",
        "\n",
        "---\n",
        "\n"
      ],
      "metadata": {
        "id": "R9629TF1IBKj"
      }
    },
    {
      "cell_type": "code",
      "source": [
        "act_mask=cv2.imread(\"/content/drive/MyDrive/GP/CD/dif_3_4.tif\",0)\n",
        "\n",
        "import sklearn.metrics\n",
        "acc = sklearn.metrics.accuracy_score(np.array(act_mask), np.array(predicted_mask),normalize=True)\n",
        "precision = sklearn.metrics.precision_score(np.array(act_mask), np.array(predicted_mask),average=\"weighted\")\n",
        "recall = sklearn.metrics.recall_score(np.array(act_mask), np.array(predicted_mask),average=\"weighted\")\n",
        "F1=sklearn.metrics.f1_score(np.array(act_mask), np.array(predicted_mask),average=\"weighted\")\n",
        "Miou=sklearn.metrics.jaccard_score(np.array(act_mask), np.array(predicted_mask),average=\"micro\")\n",
        "print(\"Recall \",recall*100)\n",
        "print(\"Percision \",precision*100,\"\")\n",
        "F1 = 2 * (precision * recall) / (precision + recall)\n",
        "print(\"FSCORE \",F1*100)\n",
        "print(\"Accuracy \",acc*100)\n",
        "print(\"Miou\",Miou*100)"
      ],
      "metadata": {
        "id": "24qOsIUQjDv-"
      },
      "execution_count": null,
      "outputs": []
    }
  ]
}