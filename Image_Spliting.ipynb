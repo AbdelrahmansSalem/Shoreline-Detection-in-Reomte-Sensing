{
  "cells": [
    {
      "cell_type": "code",
      "execution_count": null,
      "metadata": {
        "id": "kpZMgU1X0dij"
      },
      "outputs": [],
      "source": [
        "!pip install splitraster"
      ]
    },
    {
      "cell_type": "code",
      "execution_count": null,
      "metadata": {
        "id": "1GAFOQuW0Luj"
      },
      "outputs": [],
      "source": [
        "from splitraster import io\n",
        "\n",
        "input_image_path = \"Location of the image\"\n",
        "\n",
        "\n",
        "save_path = \"Saveing File Path\"\n",
        "crop_size = 128\n",
        "repetition_rate = 0.5\n",
        "overwrite = False\n",
        "\n",
        "n = io.split_image(input_image_path, save_path, crop_size,\n",
        "                   repetition_rate=repetition_rate, overwrite=overwrite)\n",
        "print(f\"{n} tiles sample of {input_image_path} are added at {save_path}\")"
      ]
    }
  ],
  "metadata": {
    "colab": {
      "provenance": []
    },
    "kernelspec": {
      "display_name": "Python 3",
      "name": "python3"
    },
    "language_info": {
      "name": "python"
    }
  },
  "nbformat": 4,
  "nbformat_minor": 0
}